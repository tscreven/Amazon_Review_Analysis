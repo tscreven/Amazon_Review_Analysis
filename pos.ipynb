{
 "cells": [
  {
   "cell_type": "code",
   "execution_count": null,
   "metadata": {},
   "outputs": [],
   "source": [
    "from methods import *\n",
    "import json\n",
    "import pandas as pd\n",
    "import matplotlib\n",
    "import matplotlib.pyplot as plt\n",
    "import sklearn.manifold as manifold\n",
    "import numpy as np\n",
    "import os\n",
    "\n",
    "matplotlib.rcParams['figure.dpi'] = 200"
   ]
  },
  {
   "cell_type": "code",
   "execution_count": 3,
   "metadata": {},
   "outputs": [],
   "source": [
    "BASENAMES = basenames()\n",
    "GENERATE_POS_FILES = False"
   ]
  },
  {
   "cell_type": "code",
   "execution_count": 4,
   "metadata": {},
   "outputs": [],
   "source": [
    "if GENERATE_POS_FILES:\n",
    "    os.makedirs('POS_Distributions')\n",
    "    for base in BASENAMES:\n",
    "        base_pos_tags = label_pos(get_decimated_name(base))\n",
    "        with open(f'POS_Distributions/{base}_pos.json', 'w') as f:\n",
    "            json.dump(base_pos_tags, f)"
   ]
  },
  {
   "cell_type": "code",
   "execution_count": 5,
   "metadata": {},
   "outputs": [],
   "source": [
    "pos_tags = ['``', '#', '$', \"''\", '(', ')', ',', '.', ':', 'CC', 'CD', 'DT', 'EX', \n",
    "            'FW', 'IN', 'JJ', 'JJR', 'JJS', 'LS', 'MD', 'NN', 'NNP', 'NNPS', \n",
    "            'NNS', 'PDT', 'POS', 'PRP', 'PRP$', 'RB', 'RBR', 'RBS', 'RP', 'SYM', \n",
    "            'TO', 'UH', 'VB', 'VBD', 'VBG', 'VBN', 'VBP', 'VBZ', 'WDT', 'WP', \n",
    "            'WP$', 'WRB']"
   ]
  },
  {
   "cell_type": "code",
   "execution_count": 6,
   "metadata": {},
   "outputs": [],
   "source": [
    "def get_frequencies(base):\n",
    "    with open(f'POS_Distributions/{base}_pos.json', 'r') as f:\n",
    "        data = json.load(f)\n",
    "    for tag in pos_tags:\n",
    "        if tag not in data.keys():\n",
    "            data[tag] = 0\n",
    "    num_tokens = sum(data.values())\n",
    "    for key, val in data.items():\n",
    "        data[key] = val / num_tokens\n",
    "    sorted_data = {pos: data[pos] for pos in pos_tags}\n",
    "    return list(sorted_data.values())"
   ]
  },
  {
   "cell_type": "code",
   "execution_count": 7,
   "metadata": {},
   "outputs": [],
   "source": [
    "pos_frequencies = []\n",
    "for base in BASENAMES:\n",
    "    pos_frequencies.append(get_frequencies(base))"
   ]
  },
  {
   "cell_type": "code",
   "execution_count": null,
   "metadata": {},
   "outputs": [],
   "source": [
    "SAVE_IMAGE = True\n",
    "plt.figure(figsize=(7, 6))\n",
    "plt.imshow(pos_frequencies, cmap='plasma', interpolation='nearest')\n",
    "plt.title(\"Part of Speech Heatmap of each Category\")\n",
    "plt.xlabel(\"Part of Speech Tags\")\n",
    "plt.xticks([i for i in range(len(pos_tags))], pos_tags, rotation=90, fontsize=8)\n",
    "plt.yticks([i for i in range(len(BASENAMES))], [base[:-2] for base in BASENAMES], fontsize=8)\n",
    "plt.ylabel(\"Categories\")\n",
    "if SAVE_IMAGE: plt.savefig('pos-heatmap.png', dpi=600, bbox_inches='tight')\n",
    "plt.show()"
   ]
  },
  {
   "cell_type": "code",
   "execution_count": null,
   "metadata": {},
   "outputs": [],
   "source": [
    "SAVE_IMAGE = True\n",
    "embedder = manifold.TSNE(n_components=2,random_state=1809,perplexity=10)\n",
    "feature_embedding = embedder.fit_transform(np.array(pos_frequencies))\n",
    "\n",
    "plt.figure().set_size_inches((8,8)) #type:ignore\n",
    "plt.title(f\"Part of Speech Embedding\")\n",
    "plot_x = feature_embedding[:,0]\n",
    "plot_y = feature_embedding[:,1]\n",
    "for i, moniker in enumerate(BASENAMES):\n",
    "    plt.annotate(moniker.rstrip('_5'),(plot_x[i],plot_y[i]),\n",
    "                  xytext=(0.3,0.3),textcoords='offset fontsize',\n",
    "                  color='#840',fontsize=7,fontweight='bold',alpha=0.80)\n",
    "plt.scatter(plot_x,plot_y,marker='o')\n",
    "plt.xticks([])\n",
    "plt.yticks([])\n",
    "if SAVE_IMAGE: plt.savefig('pos-embedding.png', dpi=600)\n",
    "plt.show()"
   ]
  },
  {
   "cell_type": "code",
   "execution_count": null,
   "metadata": {},
   "outputs": [],
   "source": []
  }
 ],
 "metadata": {
  "kernelspec": {
   "display_name": "Python 3",
   "language": "python",
   "name": "python3"
  },
  "language_info": {
   "codemirror_mode": {
    "name": "ipython",
    "version": 3
   },
   "file_extension": ".py",
   "mimetype": "text/x-python",
   "name": "python",
   "nbconvert_exporter": "python",
   "pygments_lexer": "ipython3",
   "version": "3.12.7"
  }
 },
 "nbformat": 4,
 "nbformat_minor": 2
}
