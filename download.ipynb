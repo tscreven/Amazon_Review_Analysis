{
 "cells": [
  {
   "cell_type": "code",
   "execution_count": 2,
   "metadata": {},
   "outputs": [
    {
     "name": "stdout",
     "output_type": "stream",
     "text": [
      "\n",
      "<!DOCTYPE HTML PUBLIC \"-//W3C//DTD HTML 4.01 Transitional//EN\"\n",
      "\"http://www.w3.org/TR/html4/loose.dtd\">\n",
      "<html>\n",
      "  <head>\n",
      "    <title>Amazon review data</title>\n",
      "    <meta name=\"author\" content=\"Jianmo Ni\">\n",
      "    <meta http-equiv=\"Content-Type\" content=\"text/html; charset=UTF-8\">\n",
      "\n",
      "    <script type=\"application/ld+json\">\n"
     ]
    }
   ],
   "source": [
    "#\n",
    "# Get the web page for the Amazon data referenced by the LIN127 Project\n",
    "# description.  Note we need to convert it from a byte sequence to a string.\n",
    "#\n",
    "\n",
    "import urllib.request\n",
    "\n",
    "content = urllib.request.urlopen(\"https://cseweb.ucsd.edu/~jmcauley/datasets/amazon_v2/\").read()\n",
    "content = content.decode(\"utf-8\")\n",
    "\n",
    "for lineno, line in enumerate(content.split('\\n'),1):\n",
    "    print(line)\n",
    "    if lineno == 10: break"
   ]
  },
  {
   "cell_type": "code",
   "execution_count": 3,
   "metadata": {},
   "outputs": [
    {
     "name": "stdout",
     "output_type": "stream",
     "text": [
      "There are 29 small links.\n"
     ]
    },
    {
     "data": {
      "text/plain": [
       "['https://datarepo.eng.ucsd.edu/mcauley_group/data/amazon_v2/categoryFilesSmall/AMAZON_FASHION_5.json.gz',\n",
       " 'https://datarepo.eng.ucsd.edu/mcauley_group/data/amazon_v2/categoryFilesSmall/All_Beauty_5.json.gz',\n",
       " 'https://datarepo.eng.ucsd.edu/mcauley_group/data/amazon_v2/categoryFilesSmall/Appliances_5.json.gz',\n",
       " 'https://datarepo.eng.ucsd.edu/mcauley_group/data/amazon_v2/categoryFilesSmall/Arts_Crafts_and_Sewing_5.json.gz',\n",
       " 'https://datarepo.eng.ucsd.edu/mcauley_group/data/amazon_v2/categoryFilesSmall/Automotive_5.json.gz',\n",
       " 'https://datarepo.eng.ucsd.edu/mcauley_group/data/amazon_v2/categoryFilesSmall/Books_5.json.gz',\n",
       " 'https://datarepo.eng.ucsd.edu/mcauley_group/data/amazon_v2/categoryFilesSmall/CDs_and_Vinyl_5.json.gz',\n",
       " 'https://datarepo.eng.ucsd.edu/mcauley_group/data/amazon_v2/categoryFilesSmall/Cell_Phones_and_Accessories_5.json.gz',\n",
       " 'https://datarepo.eng.ucsd.edu/mcauley_group/data/amazon_v2/categoryFilesSmall/Clothing_Shoes_and_Jewelry_5.json.gz',\n",
       " 'https://datarepo.eng.ucsd.edu/mcauley_group/data/amazon_v2/categoryFilesSmall/Digital_Music_5.json.gz',\n",
       " 'https://datarepo.eng.ucsd.edu/mcauley_group/data/amazon_v2/categoryFilesSmall/Electronics_5.json.gz',\n",
       " 'https://datarepo.eng.ucsd.edu/mcauley_group/data/amazon_v2/categoryFilesSmall/Gift_Cards_5.json.gz',\n",
       " 'https://datarepo.eng.ucsd.edu/mcauley_group/data/amazon_v2/categoryFilesSmall/Grocery_and_Gourmet_Food_5.json.gz',\n",
       " 'https://datarepo.eng.ucsd.edu/mcauley_group/data/amazon_v2/categoryFilesSmall/Home_and_Kitchen_5.json.gz',\n",
       " 'https://datarepo.eng.ucsd.edu/mcauley_group/data/amazon_v2/categoryFilesSmall/Industrial_and_Scientific_5.json.gz',\n",
       " 'https://datarepo.eng.ucsd.edu/mcauley_group/data/amazon_v2/categoryFilesSmall/Kindle_Store_5.json.gz',\n",
       " 'https://datarepo.eng.ucsd.edu/mcauley_group/data/amazon_v2/categoryFilesSmall/Luxury_Beauty_5.json.gz',\n",
       " 'https://datarepo.eng.ucsd.edu/mcauley_group/data/amazon_v2/categoryFilesSmall/Magazine_Subscriptions_5.json.gz',\n",
       " 'https://datarepo.eng.ucsd.edu/mcauley_group/data/amazon_v2/categoryFilesSmall/Movies_and_TV_5.json.gz',\n",
       " 'https://datarepo.eng.ucsd.edu/mcauley_group/data/amazon_v2/categoryFilesSmall/Musical_Instruments_5.json.gz',\n",
       " 'https://datarepo.eng.ucsd.edu/mcauley_group/data/amazon_v2/categoryFilesSmall/Office_Products_5.json.gz',\n",
       " 'https://datarepo.eng.ucsd.edu/mcauley_group/data/amazon_v2/categoryFilesSmall/Patio_Lawn_and_Garden_5.json.gz',\n",
       " 'https://datarepo.eng.ucsd.edu/mcauley_group/data/amazon_v2/categoryFilesSmall/Pet_Supplies_5.json.gz',\n",
       " 'https://datarepo.eng.ucsd.edu/mcauley_group/data/amazon_v2/categoryFilesSmall/Prime_Pantry_5.json.gz',\n",
       " 'https://datarepo.eng.ucsd.edu/mcauley_group/data/amazon_v2/categoryFilesSmall/Software_5.json.gz',\n",
       " 'https://datarepo.eng.ucsd.edu/mcauley_group/data/amazon_v2/categoryFilesSmall/Sports_and_Outdoors_5.json.gz',\n",
       " 'https://datarepo.eng.ucsd.edu/mcauley_group/data/amazon_v2/categoryFilesSmall/Tools_and_Home_Improvement_5.json.gz',\n",
       " 'https://datarepo.eng.ucsd.edu/mcauley_group/data/amazon_v2/categoryFilesSmall/Toys_and_Games_5.json.gz',\n",
       " 'https://datarepo.eng.ucsd.edu/mcauley_group/data/amazon_v2/categoryFilesSmall/Video_Games_5.json.gz']"
      ]
     },
     "execution_count": 3,
     "metadata": {},
     "output_type": "execute_result"
    }
   ],
   "source": [
    "#\n",
    "# Most links in a web page look something link\n",
    "#\n",
    "#   <a href=\"https://example.com/foo.txt\">Foo</a>\n",
    "#\n",
    "# Instead of parsing the html, we do something quick and dirty: use a regular\n",
    "# expression to pull out the URLs referenced from the page that include the\n",
    "# path segment /categoryFilesSmall/ and end with _5,json.gz.  That corresponds\n",
    "# to the links in the \"Small subsets\" table.  (Both filtering elements are\n",
    "# required.)\n",
    "#\n",
    "\n",
    "import re\n",
    "\n",
    "SMALL_LINKS_RE = re.compile(r'href\\s*=\\s*\"([^\"]+/categoryFilesSmall/[^\"]+_5.json.gz)\"')\n",
    "small_links = [ m[1] for m in SMALL_LINKS_RE.finditer(content) ]\n",
    "print(f\"There are {len(small_links)} small links.\")\n",
    "small_links"
   ]
  },
  {
   "cell_type": "code",
   "execution_count": 4,
   "metadata": {},
   "outputs": [
    {
     "name": "stdout",
     "output_type": "stream",
     "text": [
      "Fetching https://datarepo.eng.ucsd.edu/mcauley_group/data/amazon_v2/categoryFilesSmall/AMAZON_FASHION_5.json.gz...\n",
      "Fetching https://datarepo.eng.ucsd.edu/mcauley_group/data/amazon_v2/categoryFilesSmall/All_Beauty_5.json.gz...\n",
      "Fetching https://datarepo.eng.ucsd.edu/mcauley_group/data/amazon_v2/categoryFilesSmall/Appliances_5.json.gz...\n",
      "Fetching https://datarepo.eng.ucsd.edu/mcauley_group/data/amazon_v2/categoryFilesSmall/Arts_Crafts_and_Sewing_5.json.gz...\n",
      "Fetching https://datarepo.eng.ucsd.edu/mcauley_group/data/amazon_v2/categoryFilesSmall/Automotive_5.json.gz...\n",
      "Fetching https://datarepo.eng.ucsd.edu/mcauley_group/data/amazon_v2/categoryFilesSmall/Books_5.json.gz...\n",
      "Fetching https://datarepo.eng.ucsd.edu/mcauley_group/data/amazon_v2/categoryFilesSmall/CDs_and_Vinyl_5.json.gz...\n",
      "Fetching https://datarepo.eng.ucsd.edu/mcauley_group/data/amazon_v2/categoryFilesSmall/Cell_Phones_and_Accessories_5.json.gz...\n",
      "Fetching https://datarepo.eng.ucsd.edu/mcauley_group/data/amazon_v2/categoryFilesSmall/Clothing_Shoes_and_Jewelry_5.json.gz...\n",
      "Fetching https://datarepo.eng.ucsd.edu/mcauley_group/data/amazon_v2/categoryFilesSmall/Digital_Music_5.json.gz...\n",
      "Fetching https://datarepo.eng.ucsd.edu/mcauley_group/data/amazon_v2/categoryFilesSmall/Electronics_5.json.gz...\n",
      "Fetching https://datarepo.eng.ucsd.edu/mcauley_group/data/amazon_v2/categoryFilesSmall/Gift_Cards_5.json.gz...\n",
      "Fetching https://datarepo.eng.ucsd.edu/mcauley_group/data/amazon_v2/categoryFilesSmall/Grocery_and_Gourmet_Food_5.json.gz...\n",
      "Fetching https://datarepo.eng.ucsd.edu/mcauley_group/data/amazon_v2/categoryFilesSmall/Home_and_Kitchen_5.json.gz...\n",
      "Fetching https://datarepo.eng.ucsd.edu/mcauley_group/data/amazon_v2/categoryFilesSmall/Industrial_and_Scientific_5.json.gz...\n",
      "Fetching https://datarepo.eng.ucsd.edu/mcauley_group/data/amazon_v2/categoryFilesSmall/Kindle_Store_5.json.gz...\n",
      "Fetching https://datarepo.eng.ucsd.edu/mcauley_group/data/amazon_v2/categoryFilesSmall/Luxury_Beauty_5.json.gz...\n",
      "Fetching https://datarepo.eng.ucsd.edu/mcauley_group/data/amazon_v2/categoryFilesSmall/Magazine_Subscriptions_5.json.gz...\n",
      "Fetching https://datarepo.eng.ucsd.edu/mcauley_group/data/amazon_v2/categoryFilesSmall/Movies_and_TV_5.json.gz...\n",
      "Fetching https://datarepo.eng.ucsd.edu/mcauley_group/data/amazon_v2/categoryFilesSmall/Musical_Instruments_5.json.gz...\n",
      "Fetching https://datarepo.eng.ucsd.edu/mcauley_group/data/amazon_v2/categoryFilesSmall/Office_Products_5.json.gz...\n",
      "Fetching https://datarepo.eng.ucsd.edu/mcauley_group/data/amazon_v2/categoryFilesSmall/Patio_Lawn_and_Garden_5.json.gz...\n",
      "Fetching https://datarepo.eng.ucsd.edu/mcauley_group/data/amazon_v2/categoryFilesSmall/Pet_Supplies_5.json.gz...\n",
      "Fetching https://datarepo.eng.ucsd.edu/mcauley_group/data/amazon_v2/categoryFilesSmall/Prime_Pantry_5.json.gz...\n",
      "Fetching https://datarepo.eng.ucsd.edu/mcauley_group/data/amazon_v2/categoryFilesSmall/Software_5.json.gz...\n",
      "Fetching https://datarepo.eng.ucsd.edu/mcauley_group/data/amazon_v2/categoryFilesSmall/Sports_and_Outdoors_5.json.gz...\n",
      "Fetching https://datarepo.eng.ucsd.edu/mcauley_group/data/amazon_v2/categoryFilesSmall/Tools_and_Home_Improvement_5.json.gz...\n",
      "Fetching https://datarepo.eng.ucsd.edu/mcauley_group/data/amazon_v2/categoryFilesSmall/Toys_and_Games_5.json.gz...\n",
      "Fetching https://datarepo.eng.ucsd.edu/mcauley_group/data/amazon_v2/categoryFilesSmall/Video_Games_5.json.gz...\n",
      "Done\n"
     ]
    }
   ],
   "source": [
    "import os\n",
    "\n",
    "def wget_if_needed(url:str, localname:str|None=None, force=False):\n",
    "    if localname is None:\n",
    "        localname = os.path.basename(url)\n",
    "    if force or not os.path.exists(localname):\n",
    "        print(f\"Fetching {url}...\")\n",
    "        os.system(f\"wget -q -O {localname} {url}\")\n",
    "    else:\n",
    "        print(f\"[Already have {url}]\")\n",
    "\n",
    "for link in small_links:\n",
    "    wget_if_needed(link)\n",
    "\n",
    "print(\"Done\")"
   ]
  },
  {
   "cell_type": "code",
   "execution_count": 5,
   "metadata": {},
   "outputs": [
    {
     "name": "stdout",
     "output_type": "stream",
     "text": [
      "total 29024512\n",
      "-rw-r--r--@ 1 tscreven  staff      287013 Apr 28  2023 AMAZON_FASHION_5.json.gz\n",
      "-rw-r--r--@ 1 tscreven  staff      633507 Apr 28  2023 All_Beauty_5.json.gz\n",
      "-rw-r--r--@ 1 tscreven  staff       72998 Apr 28  2023 Appliances_5.json.gz\n",
      "-rw-r--r--@ 1 tscreven  staff    53965563 Apr 28  2023 Arts_Crafts_and_Sewing_5.json.gz\n",
      "-rw-r--r--@ 1 tscreven  staff   202890818 Apr 28  2023 Automotive_5.json.gz\n",
      "-rw-r--r--@ 1 tscreven  staff  7096438325 Apr 28  2023 Books_5.json.gz\n",
      "-rw-r--r--@ 1 tscreven  staff   484144315 Apr 28  2023 CDs_and_Vinyl_5.json.gz\n",
      "-rw-r--r--@ 1 tscreven  staff   169071325 Apr 28  2023 Cell_Phones_and_Accessories_5.json.gz\n",
      "-rw-r--r--@ 1 tscreven  staff  1262892731 Apr 28  2023 Clothing_Shoes_and_Jewelry_5.json.gz\n",
      "-rw-r--r--@ 1 tscreven  staff    19408584 Apr 28  2023 Digital_Music_5.json.gz\n",
      "-rw-r--r--@ 1 tscreven  staff  1251876861 Apr 28  2023 Electronics_5.json.gz\n",
      "-rw-r--r--@ 1 tscreven  staff      176952 Apr 28  2023 Gift_Cards_5.json.gz\n",
      "-rw-r--r--@ 1 tscreven  staff   146631394 Apr 28  2023 Grocery_and_Gourmet_Food_5.json.gz\n",
      "-rw-r--r--@ 1 tscreven  staff   953876340 Apr 28  2023 Home_and_Kitchen_5.json.gz\n",
      "-rw-r--r--@ 1 tscreven  staff    10994038 Apr 28  2023 Industrial_and_Scientific_5.json.gz\n",
      "-rw-r--r--@ 1 tscreven  staff   538673481 Apr 28  2023 Kindle_Store_5.json.gz\n",
      "-rw-r--r--@ 1 tscreven  staff     7356868 Apr 28  2023 Luxury_Beauty_5.json.gz\n",
      "-rw-r--r--@ 1 tscreven  staff      401655 Apr 28  2023 Magazine_Subscriptions_5.json.gz\n",
      "-rw-r--r--@ 1 tscreven  staff   791322468 Apr 28  2023 Movies_and_TV_5.json.gz\n",
      "-rw-r--r--@ 1 tscreven  staff    39356138 Apr 28  2023 Musical_Instruments_5.json.gz\n",
      "-rw-r--r--@ 1 tscreven  staff   111685374 Apr 28  2023 Office_Products_5.json.gz\n",
      "-rw-r--r--@ 1 tscreven  staff   115147473 Apr 28  2023 Patio_Lawn_and_Garden_5.json.gz\n",
      "-rw-r--r--@ 1 tscreven  staff   306131006 Apr 28  2023 Pet_Supplies_5.json.gz\n",
      "-rw-r--r--@ 1 tscreven  staff    11837057 Apr 28  2023 Prime_Pantry_5.json.gz\n",
      "-rw-r--r--@ 1 tscreven  staff     5339013 Apr 28  2023 Software_5.json.gz\n",
      "-rw-r--r--@ 1 tscreven  staff   414308704 Apr 28  2023 Sports_and_Outdoors_5.json.gz\n",
      "-rw-r--r--@ 1 tscreven  staff   309844033 Apr 28  2023 Tools_and_Home_Improvement_5.json.gz\n",
      "-rw-r--r--@ 1 tscreven  staff   242925873 Apr 28  2023 Toys_and_Games_5.json.gz\n",
      "-rw-r--r--@ 1 tscreven  staff   154050105 Apr 28  2023 Video_Games_5.json.gz\n",
      "-rw-r--r--@ 1 tscreven  staff       10803 Nov 24 18:08 download.ipynb\n",
      "-rw-r--r--  1 tscreven  staff     1413469 Nov 24 18:11 example,json\n"
     ]
    }
   ],
   "source": [
    "!ls -l"
   ]
  }
 ],
 "metadata": {
  "kernelspec": {
   "display_name": "Python 3",
   "language": "python",
   "name": "python3"
  },
  "language_info": {
   "codemirror_mode": {
    "name": "ipython",
    "version": 3
   },
   "file_extension": ".py",
   "mimetype": "text/x-python",
   "name": "python",
   "nbconvert_exporter": "python",
   "pygments_lexer": "ipython3",
   "version": "3.12.7"
  }
 },
 "nbformat": 4,
 "nbformat_minor": 2
}
