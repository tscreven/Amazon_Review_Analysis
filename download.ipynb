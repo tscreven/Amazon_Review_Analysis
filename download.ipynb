{
 "cells": [
  {
   "cell_type": "code",
   "execution_count": null,
   "metadata": {},
   "outputs": [],
   "source": [
    "#\n",
    "# Get the web page for the Amazon data referenced by the LIN127 Project\n",
    "# description.  Note we need to convert it from a byte sequence to a string.\n",
    "#\n",
    "\n",
    "import urllib.request\n",
    "\n",
    "content = urllib.request.urlopen(\"https://cseweb.ucsd.edu/~jmcauley/datasets/amazon_v2/\").read()\n",
    "content = content.decode(\"utf-8\")\n",
    "\n",
    "for lineno, line in enumerate(content.split('\\n'),1):\n",
    "    print(line)\n",
    "    if lineno == 10: break"
   ]
  },
  {
   "cell_type": "code",
   "execution_count": null,
   "metadata": {},
   "outputs": [],
   "source": [
    "#\n",
    "# Most links in a web page look something link\n",
    "#\n",
    "#   <a href=\"https://example.com/foo.txt\">Foo</a>\n",
    "#\n",
    "# Instead of parsing the html, we do something quick and dirty: use a regular\n",
    "# expression to pull out the URLs referenced from the page that include the\n",
    "# path segment /categoryFilesSmall/ and end with _5,json.gz.  That corresponds\n",
    "# to the links in the \"Small subsets\" table.  (Both filtering elements are\n",
    "# required.)\n",
    "#\n",
    "\n",
    "import re\n",
    "\n",
    "SMALL_LINKS_RE = re.compile(r'href\\s*=\\s*\"([^\"]+/categoryFilesSmall/[^\"]+_5.json.gz)\"')\n",
    "small_links = [ m[1] for m in SMALL_LINKS_RE.finditer(content) ]\n",
    "print(f\"There are {len(small_links)} small links.\")\n",
    "small_links"
   ]
  },
  {
   "cell_type": "code",
   "execution_count": null,
   "metadata": {},
   "outputs": [],
   "source": [
    "import os\n",
    "\n",
    "def wget_if_needed(url:str, localname:str|None=None, force=False):\n",
    "    if localname is None:\n",
    "        localname = os.path.basename(url)\n",
    "    if force or not os.path.exists(localname):\n",
    "        print(f\"Fetching {url}...\")\n",
    "        os.system(f\"wget -q -O {localname} {url}\")\n",
    "    else:\n",
    "        print(f\"[Already have {url}]\")\n",
    "\n",
    "for link in small_links:\n",
    "    wget_if_needed(link)\n",
    "\n",
    "print(\"Done\")"
   ]
  }
 ],
 "metadata": {
  "kernelspec": {
   "display_name": "Python 3",
   "language": "python",
   "name": "python3"
  },
  "language_info": {
   "codemirror_mode": {
    "name": "ipython",
    "version": 3
   },
   "file_extension": ".py",
   "mimetype": "text/x-python",
   "name": "python",
   "nbconvert_exporter": "python",
   "pygments_lexer": "ipython3",
   "version": "3.12.7"
  }
 },
 "nbformat": 4,
 "nbformat_minor": 2
}
